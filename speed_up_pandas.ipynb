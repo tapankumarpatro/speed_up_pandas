{
 "cells": [
  {
   "cell_type": "code",
   "execution_count": 1,
   "metadata": {},
   "outputs": [],
   "source": [
    "import pandas as pd\n",
    "import numpy as np"
   ]
  },
  {
   "cell_type": "markdown",
   "metadata": {},
   "source": [
    "#### Creating Data\n",
    "\n",
    "##### Student data\n",
    "\n",
    "* student name\n",
    "* student age\n",
    "* student study_time\n",
    "* student marks_in_perc\n",
    "* student award\n",
    "* student punishment"
   ]
  },
  {
   "cell_type": "code",
   "execution_count": 2,
   "metadata": {},
   "outputs": [],
   "source": [
    "# !pip install names"
   ]
  },
  {
   "cell_type": "code",
   "execution_count": 3,
   "metadata": {},
   "outputs": [],
   "source": [
    "import names\n"
   ]
  },
  {
   "cell_type": "code",
   "execution_count": 4,
   "metadata": {},
   "outputs": [
    {
     "data": {
      "text/html": [
       "<div>\n",
       "<style scoped>\n",
       "    .dataframe tbody tr th:only-of-type {\n",
       "        vertical-align: middle;\n",
       "    }\n",
       "\n",
       "    .dataframe tbody tr th {\n",
       "        vertical-align: top;\n",
       "    }\n",
       "\n",
       "    .dataframe thead th {\n",
       "        text-align: right;\n",
       "    }\n",
       "</style>\n",
       "<table border=\"1\" class=\"dataframe\">\n",
       "  <thead>\n",
       "    <tr style=\"text-align: right;\">\n",
       "      <th></th>\n",
       "      <th>name</th>\n",
       "      <th>age</th>\n",
       "      <th>studied_time</th>\n",
       "      <th>marks_in_perc</th>\n",
       "      <th>award</th>\n",
       "      <th>punishment</th>\n",
       "    </tr>\n",
       "  </thead>\n",
       "  <tbody>\n",
       "    <tr>\n",
       "      <th>0</th>\n",
       "      <td>Roger</td>\n",
       "      <td>0</td>\n",
       "      <td>8</td>\n",
       "      <td>36</td>\n",
       "      <td>Favritoe Food</td>\n",
       "      <td>Grounded</td>\n",
       "    </tr>\n",
       "    <tr>\n",
       "      <th>1</th>\n",
       "      <td>Albert</td>\n",
       "      <td>14</td>\n",
       "      <td>7</td>\n",
       "      <td>97</td>\n",
       "      <td>Favritoe Food</td>\n",
       "      <td>No Wifi</td>\n",
       "    </tr>\n",
       "    <tr>\n",
       "      <th>2</th>\n",
       "      <td>David</td>\n",
       "      <td>5</td>\n",
       "      <td>6</td>\n",
       "      <td>39</td>\n",
       "      <td>Favritoe Food</td>\n",
       "      <td>No Wifi</td>\n",
       "    </tr>\n",
       "    <tr>\n",
       "      <th>3</th>\n",
       "      <td>Tami</td>\n",
       "      <td>16</td>\n",
       "      <td>8</td>\n",
       "      <td>26</td>\n",
       "      <td>Out for Movie</td>\n",
       "      <td>Grounded</td>\n",
       "    </tr>\n",
       "    <tr>\n",
       "      <th>4</th>\n",
       "      <td>Iris</td>\n",
       "      <td>15</td>\n",
       "      <td>2</td>\n",
       "      <td>42</td>\n",
       "      <td>Favritoe Food</td>\n",
       "      <td>No Wifi</td>\n",
       "    </tr>\n",
       "  </tbody>\n",
       "</table>\n",
       "</div>"
      ],
      "text/plain": [
       "     name  age  studied_time  marks_in_perc          award punishment\n",
       "0   Roger    0             8             36  Favritoe Food   Grounded\n",
       "1  Albert   14             7             97  Favritoe Food    No Wifi\n",
       "2   David    5             6             39  Favritoe Food    No Wifi\n",
       "3    Tami   16             8             26  Out for Movie   Grounded\n",
       "4    Iris   15             2             42  Favritoe Food    No Wifi"
      ]
     },
     "execution_count": 4,
     "metadata": {},
     "output_type": "execute_result"
    }
   ],
   "source": [
    "df = pd.DataFrame()\n",
    "row_count = 10000\n",
    "\n",
    "df[\"name\"] = [names.get_first_name() for _ in range(row_count)]\n",
    "df[\"age\"] = np.random.randint(0, 21, row_count)\n",
    "df[\"studied_time\"] = np.random.randint(1, 9, row_count)\n",
    "df[\"marks_in_perc\"] = np.random.randint(25, 100, row_count)\n",
    "df[\"award\"] = np.random.choice([\"Playing game\", \"Out for Movie\", \"Favritoe Food\"], row_count)\n",
    "df[\"punishment\"] = np.random.choice([\"No Game\", \"Grounded\", \"No Wifi\"], row_count)\n",
    "\n",
    "df.head()"
   ]
  },
  {
   "cell_type": "code",
   "execution_count": 5,
   "metadata": {},
   "outputs": [
    {
     "data": {
      "text/html": [
       "<div>\n",
       "<style scoped>\n",
       "    .dataframe tbody tr th:only-of-type {\n",
       "        vertical-align: middle;\n",
       "    }\n",
       "\n",
       "    .dataframe tbody tr th {\n",
       "        vertical-align: top;\n",
       "    }\n",
       "\n",
       "    .dataframe thead th {\n",
       "        text-align: right;\n",
       "    }\n",
       "</style>\n",
       "<table border=\"1\" class=\"dataframe\">\n",
       "  <thead>\n",
       "    <tr style=\"text-align: right;\">\n",
       "      <th></th>\n",
       "      <th>name</th>\n",
       "      <th>age</th>\n",
       "      <th>studied_time</th>\n",
       "      <th>marks_in_perc</th>\n",
       "      <th>award</th>\n",
       "      <th>punishment</th>\n",
       "    </tr>\n",
       "  </thead>\n",
       "  <tbody>\n",
       "    <tr>\n",
       "      <th>2406</th>\n",
       "      <td>Shelton</td>\n",
       "      <td>12</td>\n",
       "      <td>5</td>\n",
       "      <td>55</td>\n",
       "      <td>Favritoe Food</td>\n",
       "      <td>No Wifi</td>\n",
       "    </tr>\n",
       "    <tr>\n",
       "      <th>3979</th>\n",
       "      <td>Steven</td>\n",
       "      <td>9</td>\n",
       "      <td>8</td>\n",
       "      <td>42</td>\n",
       "      <td>Playing game</td>\n",
       "      <td>Grounded</td>\n",
       "    </tr>\n",
       "    <tr>\n",
       "      <th>7897</th>\n",
       "      <td>James</td>\n",
       "      <td>18</td>\n",
       "      <td>3</td>\n",
       "      <td>41</td>\n",
       "      <td>Favritoe Food</td>\n",
       "      <td>Grounded</td>\n",
       "    </tr>\n",
       "    <tr>\n",
       "      <th>5152</th>\n",
       "      <td>Gail</td>\n",
       "      <td>15</td>\n",
       "      <td>4</td>\n",
       "      <td>66</td>\n",
       "      <td>Favritoe Food</td>\n",
       "      <td>No Game</td>\n",
       "    </tr>\n",
       "    <tr>\n",
       "      <th>2415</th>\n",
       "      <td>John</td>\n",
       "      <td>13</td>\n",
       "      <td>2</td>\n",
       "      <td>32</td>\n",
       "      <td>Out for Movie</td>\n",
       "      <td>Grounded</td>\n",
       "    </tr>\n",
       "  </tbody>\n",
       "</table>\n",
       "</div>"
      ],
      "text/plain": [
       "         name  age  studied_time  marks_in_perc          award punishment\n",
       "2406  Shelton   12             5             55  Favritoe Food    No Wifi\n",
       "3979   Steven    9             8             42   Playing game   Grounded\n",
       "7897    James   18             3             41  Favritoe Food   Grounded\n",
       "5152     Gail   15             4             66  Favritoe Food    No Game\n",
       "2415     John   13             2             32  Out for Movie   Grounded"
      ]
     },
     "execution_count": 5,
     "metadata": {},
     "output_type": "execute_result"
    }
   ],
   "source": [
    "df.sample(5)"
   ]
  },
  {
   "cell_type": "markdown",
   "metadata": {},
   "source": [
    "##### Simple idea is to check if student is studied more than 4 hrs a day or scored more than 80% will get a award or will get punishment"
   ]
  },
  {
   "cell_type": "code",
   "execution_count": 6,
   "metadata": {},
   "outputs": [],
   "source": [
    "## What they will get "
   ]
  },
  {
   "cell_type": "code",
   "execution_count": 16,
   "metadata": {},
   "outputs": [],
   "source": [
    "def map_award_or_punish(each_row):\n",
    "    if (each_row[\"studied_time\"] > 4) | (each_row[\"marks_in_perc\"] > 80) :\n",
    "        return each_row[\"award\"]\n",
    "    else:\n",
    "        return each_row[\"punishment\"]"
   ]
  },
  {
   "cell_type": "markdown",
   "metadata": {},
   "source": [
    "#### Looking at each row and iterating using loop"
   ]
  },
  {
   "cell_type": "code",
   "execution_count": 17,
   "metadata": {},
   "outputs": [
    {
     "name": "stdout",
     "output_type": "stream",
     "text": [
      "2.77 s ± 50.1 ms per loop (mean ± std. dev. of 7 runs, 1 loop each)\n"
     ]
    }
   ],
   "source": [
    "%%timeit\n",
    "df1 = df.copy()\n",
    "for index, row in df1.iterrows():\n",
    "    df1.loc[index, \"What_they_get\"] = map_award_or_punish(row)"
   ]
  },
  {
   "cell_type": "markdown",
   "metadata": {},
   "source": [
    "#### Using Apply"
   ]
  },
  {
   "cell_type": "code",
   "execution_count": 18,
   "metadata": {},
   "outputs": [
    {
     "name": "stdout",
     "output_type": "stream",
     "text": [
      "92.7 ms ± 648 µs per loop (mean ± std. dev. of 7 runs, 10 loops each)\n"
     ]
    }
   ],
   "source": [
    "%%timeit\n",
    "df2 = df.copy()\n",
    "df2[\"What_they_get\"] = df2.apply(map_award_or_punish, axis=1)"
   ]
  },
  {
   "cell_type": "code",
   "execution_count": 19,
   "metadata": {},
   "outputs": [
    {
     "data": {
      "text/html": [
       "<div>\n",
       "<style scoped>\n",
       "    .dataframe tbody tr th:only-of-type {\n",
       "        vertical-align: middle;\n",
       "    }\n",
       "\n",
       "    .dataframe tbody tr th {\n",
       "        vertical-align: top;\n",
       "    }\n",
       "\n",
       "    .dataframe thead th {\n",
       "        text-align: right;\n",
       "    }\n",
       "</style>\n",
       "<table border=\"1\" class=\"dataframe\">\n",
       "  <thead>\n",
       "    <tr style=\"text-align: right;\">\n",
       "      <th></th>\n",
       "      <th>name</th>\n",
       "      <th>age</th>\n",
       "      <th>studied_time</th>\n",
       "      <th>marks_in_perc</th>\n",
       "      <th>award</th>\n",
       "      <th>punishment</th>\n",
       "      <th>What_they_get</th>\n",
       "    </tr>\n",
       "  </thead>\n",
       "  <tbody>\n",
       "    <tr>\n",
       "      <th>0</th>\n",
       "      <td>Roger</td>\n",
       "      <td>0</td>\n",
       "      <td>8</td>\n",
       "      <td>36</td>\n",
       "      <td>Favritoe Food</td>\n",
       "      <td>Grounded</td>\n",
       "      <td>Favritoe Food</td>\n",
       "    </tr>\n",
       "    <tr>\n",
       "      <th>1</th>\n",
       "      <td>Albert</td>\n",
       "      <td>14</td>\n",
       "      <td>7</td>\n",
       "      <td>97</td>\n",
       "      <td>Favritoe Food</td>\n",
       "      <td>No Wifi</td>\n",
       "      <td>Favritoe Food</td>\n",
       "    </tr>\n",
       "    <tr>\n",
       "      <th>2</th>\n",
       "      <td>David</td>\n",
       "      <td>5</td>\n",
       "      <td>6</td>\n",
       "      <td>39</td>\n",
       "      <td>Favritoe Food</td>\n",
       "      <td>No Wifi</td>\n",
       "      <td>Favritoe Food</td>\n",
       "    </tr>\n",
       "    <tr>\n",
       "      <th>3</th>\n",
       "      <td>Tami</td>\n",
       "      <td>16</td>\n",
       "      <td>8</td>\n",
       "      <td>26</td>\n",
       "      <td>Out for Movie</td>\n",
       "      <td>Grounded</td>\n",
       "      <td>Out for Movie</td>\n",
       "    </tr>\n",
       "    <tr>\n",
       "      <th>4</th>\n",
       "      <td>Iris</td>\n",
       "      <td>15</td>\n",
       "      <td>2</td>\n",
       "      <td>42</td>\n",
       "      <td>Favritoe Food</td>\n",
       "      <td>No Wifi</td>\n",
       "      <td>No Wifi</td>\n",
       "    </tr>\n",
       "  </tbody>\n",
       "</table>\n",
       "</div>"
      ],
      "text/plain": [
       "     name  age  studied_time  marks_in_perc          award punishment  \\\n",
       "0   Roger    0             8             36  Favritoe Food   Grounded   \n",
       "1  Albert   14             7             97  Favritoe Food    No Wifi   \n",
       "2   David    5             6             39  Favritoe Food    No Wifi   \n",
       "3    Tami   16             8             26  Out for Movie   Grounded   \n",
       "4    Iris   15             2             42  Favritoe Food    No Wifi   \n",
       "\n",
       "   What_they_get  \n",
       "0  Favritoe Food  \n",
       "1  Favritoe Food  \n",
       "2  Favritoe Food  \n",
       "3  Out for Movie  \n",
       "4        No Wifi  "
      ]
     },
     "execution_count": 19,
     "metadata": {},
     "output_type": "execute_result"
    }
   ],
   "source": [
    "df2 = df.copy()\n",
    "df2[\"What_they_get\"] = df2.apply(map_award_or_punish, axis=1)\n",
    "df2.head()"
   ]
  },
  {
   "cell_type": "markdown",
   "metadata": {},
   "source": [
    "#### Using Vectorizer"
   ]
  },
  {
   "cell_type": "code",
   "execution_count": 23,
   "metadata": {},
   "outputs": [
    {
     "name": "stdout",
     "output_type": "stream",
     "text": [
      "1.74 ms ± 55 µs per loop (mean ± std. dev. of 7 runs, 1000 loops each)\n"
     ]
    }
   ],
   "source": [
    "%%timeit\n",
    "df3 = df.copy()\n",
    "df3[\"What_they_get\"] = df3[\"punishment\"]\n",
    "df3.loc[((df3[\"studied_time\"] > 4) | (df3[\"marks_in_perc\"] > 80)), \"What_they_get\"] = df3[\"award\"]"
   ]
  },
  {
   "cell_type": "code",
   "execution_count": 25,
   "metadata": {},
   "outputs": [],
   "source": [
    "def map_award_or_punish_new(studied_time, marks, award, punishment):\n",
    "    if (studied_time > 4) | (marks > 80) :\n",
    "        return award\n",
    "    else:\n",
    "        return punishment"
   ]
  },
  {
   "cell_type": "code",
   "execution_count": 26,
   "metadata": {},
   "outputs": [
    {
     "name": "stdout",
     "output_type": "stream",
     "text": [
      "3 ms ± 195 µs per loop (mean ± std. dev. of 7 runs, 100 loops each)\n"
     ]
    }
   ],
   "source": [
    "%%timeit\n",
    "df5 = df.copy()\n",
    "df5[\"award\"] = df5[\"punishment\"]\n",
    "df5[\"What_they_get\"] = np.vectorize(map_award_or_punish_new)(df5[\"studied_time\"], df5[\"marks_in_perc\"], df5[\"award\"], df5[\"punishment\"])"
   ]
  },
  {
   "cell_type": "code",
   "execution_count": null,
   "metadata": {},
   "outputs": [],
   "source": []
  }
 ],
 "metadata": {
  "kernelspec": {
   "display_name": "Python 3.6.13 ('py36_sklearn')",
   "language": "python",
   "name": "python3"
  },
  "language_info": {
   "codemirror_mode": {
    "name": "ipython",
    "version": 3
   },
   "file_extension": ".py",
   "mimetype": "text/x-python",
   "name": "python",
   "nbconvert_exporter": "python",
   "pygments_lexer": "ipython3",
   "version": "3.6.13"
  },
  "orig_nbformat": 4,
  "vscode": {
   "interpreter": {
    "hash": "36cc2d0d6bc6e0a435d56e864c40a3c0b61e38df40cd9907a6720f232ab2b31c"
   }
  }
 },
 "nbformat": 4,
 "nbformat_minor": 2
}
